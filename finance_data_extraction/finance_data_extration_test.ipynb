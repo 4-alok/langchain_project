{
 "cells": [
  {
   "cell_type": "code",
   "execution_count": 1,
   "metadata": {},
   "outputs": [],
   "source": [
    "import json\n",
    "import os\n",
    "import openai\n",
    "import pandas as pd\n",
    "from dotenv import load_dotenv, find_dotenv"
   ]
  },
  {
   "cell_type": "code",
   "execution_count": 2,
   "metadata": {},
   "outputs": [],
   "source": [
    "load_dotenv(find_dotenv())\n",
    "openai.api_key = os.environ[\"OPENAI_API_KEY\"]"
   ]
  },
  {
   "cell_type": "code",
   "execution_count": 3,
   "metadata": {},
   "outputs": [],
   "source": [
    "def get_prompt_financial():\n",
    "    return '''Please retrieve company name, revenue, net income and earnings per share (a.k.a. EPS)\n",
    "    from the following news article. If you can't find the information from this article \n",
    "    then return \"\". Do not make things up.    \n",
    "    Then retrieve a stock symbol corresponding to that company. For this you can use\n",
    "    your general knowledge (it doesn't have to be from this article). Always return your\n",
    "    response as a valid JSON string. The format of that string should be this, \n",
    "    {\n",
    "        \"Company Name\": \"Walmart\",\n",
    "        \"Stock Symbol\": \"WMT\",\n",
    "        \"Revenue\": \"12.34 million\",\n",
    "        \"Net Income\": \"34.78 million\",\n",
    "        \"EPS\": \"2.1 $\"\n",
    "    }\n",
    "    News Article:\n",
    "    ============\n",
    "\n",
    "    '''"
   ]
  },
  {
   "cell_type": "code",
   "execution_count": 4,
   "metadata": {},
   "outputs": [],
   "source": [
    "text = '''\n",
    "    Tesla's Earning news in text format: Tesla's earning this quarter blew all the estimates. They reported 4.5 billion $ profit against a revenue of 30 billion $. Their earnings per share was 2.3 $\n",
    "    '''\n",
    "    \n",
    "\n",
    "prompt = get_prompt_financial() + text\n",
    "response = openai.ChatCompletion.create( # type: ignore\n",
    "    model=\"gpt-3.5-turbo\",\n",
    "    messages=[\n",
    "        {\n",
    "            \"role\": \"user\",\"content\": prompt\n",
    "        }\n",
    "    ]\n",
    ")\n"
   ]
  },
  {
   "cell_type": "code",
   "execution_count": 5,
   "metadata": {},
   "outputs": [
    {
     "name": "stdout",
     "output_type": "stream",
     "text": [
      "{\n",
      "  \"id\": \"chatcmpl-7ZOl2mYYmT7k09ZrUWM8C4FS9N1SU\",\n",
      "  \"object\": \"chat.completion\",\n",
      "  \"created\": 1688671004,\n",
      "  \"model\": \"gpt-3.5-turbo-0613\",\n",
      "  \"choices\": [\n",
      "    {\n",
      "      \"index\": 0,\n",
      "      \"message\": {\n",
      "        \"role\": \"assistant\",\n",
      "        \"content\": \"{\\n    \\\"Company Name\\\": \\\"Tesla\\\",\\n    \\\"Stock Symbol\\\": \\\"TSLA\\\",\\n    \\\"Revenue\\\": \\\"30 billion $\\\",\\n    \\\"Net Income\\\": \\\"4.5 billion $\\\",\\n    \\\"EPS\\\": \\\"2.3 $\\\"\\n}\"\n",
      "      },\n",
      "      \"finish_reason\": \"stop\"\n",
      "    }\n",
      "  ],\n",
      "  \"usage\": {\n",
      "    \"prompt_tokens\": 220,\n",
      "    \"completion_tokens\": 51,\n",
      "    \"total_tokens\": 271\n",
      "  }\n",
      "}\n"
     ]
    }
   ],
   "source": [
    "print(response)"
   ]
  },
  {
   "cell_type": "code",
   "execution_count": 6,
   "metadata": {},
   "outputs": [
    {
     "name": "stdout",
     "output_type": "stream",
     "text": [
      "{\n",
      "    \"Company Name\": \"Tesla\",\n",
      "    \"Stock Symbol\": \"TSLA\",\n",
      "    \"Revenue\": \"30 billion $\",\n",
      "    \"Net Income\": \"4.5 billion $\",\n",
      "    \"EPS\": \"2.3 $\"\n",
      "}\n"
     ]
    }
   ],
   "source": [
    "content = response.choices[0]['message']['content'] # type: ignore\n",
    "print(content)\n"
   ]
  },
  {
   "cell_type": "code",
   "execution_count": 7,
   "metadata": {},
   "outputs": [
    {
     "name": "stdout",
     "output_type": "stream",
     "text": [
      "        Measure          Value\n",
      "0  Company Name          Tesla\n",
      "1  Stock Symbol           TSLA\n",
      "2       Revenue   30 billion $\n",
      "3    Net Income  4.5 billion $\n",
      "4           EPS          2.3 $\n"
     ]
    }
   ],
   "source": [
    "\n",
    "try:\n",
    "    data = json.loads(content)\n",
    "    df = pd.DataFrame(data.items(), columns=['Measure', 'Value'])\n",
    "    print(df)\n",
    "except (json.decoder.JSONDecodeError, IndexError):\n",
    "    pd.DataFrame({\n",
    "        \"Measure\": ['Company Name', \"Stock Symbol\", \"Revenue\", \"Net Income\", \"EPS\"],\n",
    "        \"Value\": [\"\", \"\", \"\", \"\", \"\"]\n",
    "    })"
   ]
  }
 ],
 "metadata": {
  "kernelspec": {
   "display_name": "lang_chain",
   "language": "python",
   "name": "python3"
  },
  "language_info": {
   "codemirror_mode": {
    "name": "ipython",
    "version": 3
   },
   "file_extension": ".py",
   "mimetype": "text/x-python",
   "name": "python",
   "nbconvert_exporter": "python",
   "pygments_lexer": "ipython3",
   "version": "3.10.11"
  },
  "orig_nbformat": 4
 },
 "nbformat": 4,
 "nbformat_minor": 2
}
