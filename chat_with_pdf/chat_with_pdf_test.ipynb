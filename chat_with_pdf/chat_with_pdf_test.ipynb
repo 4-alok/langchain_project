{
 "cells": [
  {
   "cell_type": "code",
   "execution_count": 1,
   "metadata": {},
   "outputs": [],
   "source": [
    "import os\n",
    "import openai\n",
    "from dotenv import load_dotenv, find_dotenv\n",
    "\n",
    "load_dotenv(find_dotenv())\n",
    "openai.api_key = os.environ[\"OPENAI_API_KEY\"]\n"
   ]
  },
  {
   "cell_type": "code",
   "execution_count": 3,
   "metadata": {},
   "outputs": [],
   "source": [
    "from openai.embeddings_utils import get_embedding\n",
    "from PyPDF2 import PdfReader\n",
    "from langchain.text_splitter import CharacterTextSplitter"
   ]
  },
  {
   "cell_type": "code",
   "execution_count": 17,
   "metadata": {},
   "outputs": [],
   "source": [
    "docs_path = \"/home/alok/projects/LangChain/project/chat_with_pdf\""
   ]
  },
  {
   "cell_type": "code",
   "execution_count": 19,
   "metadata": {},
   "outputs": [
    {
     "name": "stdout",
     "output_type": "stream",
     "text": [
      "Total number of text chunks:  3\n"
     ]
    }
   ],
   "source": [
    "text_chunk = []\n",
    "for f_name in os.listdir(docs_path):\n",
    "    f_path = os.path.join(docs_path, f_name)\n",
    "    if os.path.isfile(f_path) and f_path.endswith('.pdf'):\n",
    "        reader = PdfReader(f_path)\n",
    "        text = \"\".join(page.extract_text() for  page in reader.pages)\n",
    "        text_splitter = CharacterTextSplitter(\n",
    "            separator=\"\\n\",\n",
    "            chunk_size=1000,\n",
    "            chunk_overlap=200,\n",
    "        )\n",
    "        text_chunk.extend(text_splitter.split_text(text))\n",
    "\n",
    "print(\"Total number of text chunks: \", len(text_chunk))"
   ]
  },
  {
   "cell_type": "code",
   "execution_count": 20,
   "metadata": {},
   "outputs": [],
   "source": [
    "# Remove all chunks shorter than 10 words and strip the rest\n",
    "text_chunk = [string.strip().strip('\\n') for string in text_chunk if len(string.split()) > 10]"
   ]
  },
  {
   "cell_type": "code",
   "execution_count": 21,
   "metadata": {},
   "outputs": [],
   "source": [
    "# write code for vectore store here\n",
    "from langchain.vectorstores import FAISS\n",
    "from langchain.embeddings import OpenAIEmbeddings\n",
    "\n",
    "embeddings = OpenAIEmbeddings()  # type: ignore\n",
    "vector_store = FAISS.from_texts(texts=text_chunk, embedding=embeddings)"
   ]
  },
  {
   "cell_type": "code",
   "execution_count": 22,
   "metadata": {},
   "outputs": [],
   "source": [
    "# write code for conversation chain here\n",
    "from langchain.memory import ConversationBufferMemory\n",
    "from langchain.chains import ConversationalRetrievalChain\n",
    "from langchain.chat_models import ChatOpenAI\n",
    "\n",
    "llm = ChatOpenAI()  # type: ignore\n",
    "memory = ConversationBufferMemory(\n",
    "    memory_key=\"chat_history\",\n",
    "    return_messages=True\n",
    ")\n",
    "conversation_chain = ConversationalRetrievalChain.from_llm(\n",
    "    llm=llm,\n",
    "    retriever=vector_store.as_retriever(),\n",
    "    memory=memory,\n",
    ")\n",
    "\n"
   ]
  },
  {
   "cell_type": "code",
   "execution_count": 23,
   "metadata": {},
   "outputs": [],
   "source": [
    "# write code for print answer here\n",
    "def print_answer(question):\n",
    "    res = conversation_chain({'question': question})\n",
    "    print(res['answer'])"
   ]
  },
  {
   "cell_type": "code",
   "execution_count": 24,
   "metadata": {},
   "outputs": [
    {
     "name": "stdout",
     "output_type": "stream",
     "text": [
      "Eligibility criteria for the CISCO Training Program through NetAcad are as follows:\n",
      "\n",
      "- Student's Graduation Year: 2024\n",
      "- Minimum CGPA: 7.0 and above (highest degree)\n",
      "- No. of backlogs/arrears: 0\n"
     ]
    }
   ],
   "source": [
    "text = \"What is Eligibility criteria for CISCO\"\n",
    "print_answer(\"User: \" + text)"
   ]
  }
 ],
 "metadata": {
  "kernelspec": {
   "display_name": "lang_chain",
   "language": "python",
   "name": "python3"
  },
  "language_info": {
   "codemirror_mode": {
    "name": "ipython",
    "version": 3
   },
   "file_extension": ".py",
   "mimetype": "text/x-python",
   "name": "python",
   "nbconvert_exporter": "python",
   "pygments_lexer": "ipython3",
   "version": "3.10.11"
  },
  "orig_nbformat": 4
 },
 "nbformat": 4,
 "nbformat_minor": 2
}
